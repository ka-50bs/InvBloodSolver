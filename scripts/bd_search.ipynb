{
 "cells": [
  {
   "cell_type": "markdown",
   "metadata": {},
   "source": [
    "### Подключение библиотек"
   ]
  },
  {
   "cell_type": "code",
   "execution_count": 1,
   "metadata": {},
   "outputs": [],
   "source": [
    "import pandas as pd\n",
    "import numpy as np\n",
    "import re\n",
    "from sklearn.preprocessing import MinMaxScaler\n",
    "from tqdm import tqdm\n",
    "from sklearn.model_selection import train_test_split\n",
    "from sklearn.metrics import mean_absolute_error, mean_squared_error\n",
    "from sklearn.neighbors import KDTree\n",
    "import random\n",
    "import matplotlib.pyplot as plt\n",
    "import time\n",
    "import pickle\n",
    "from IPython.display import Image"
   ]
  },
  {
   "cell_type": "markdown",
   "metadata": {},
   "source": [
    "### Считаем данные"
   ]
  },
  {
   "cell_type": "markdown",
   "metadata": {},
   "source": [
    "Теоретические данные"
   ]
  },
  {
   "cell_type": "code",
   "execution_count": 29,
   "metadata": {},
   "outputs": [],
   "source": [
    "X_test_array = np.load(r\"C:\\Users\\trrak\\OneDrive\\Рабочий стол\\InvBloodSolver\\df\\df_th\\X_test_array.npy\")\n",
    "X_train_array = np.load(r\"C:\\Users\\trrak\\OneDrive\\Рабочий стол\\InvBloodSolver\\df\\df_th\\X_train_array.npy\")\n",
    "y_test_array = np.load(r\"C:\\Users\\trrak\\OneDrive\\Рабочий стол\\InvBloodSolver\\df\\df_th\\y_test_array.npy\")\n",
    "y_train_array = np.load(r\"C:\\Users\\trrak\\OneDrive\\Рабочий стол\\InvBloodSolver\\df\\df_th\\y_train_array.npy\")"
   ]
  },
  {
   "cell_type": "markdown",
   "metadata": {},
   "source": [
    "Экспериментальные данные"
   ]
  },
  {
   "cell_type": "code",
   "execution_count": 30,
   "metadata": {},
   "outputs": [],
   "source": [
    "X_exp_array = np.load(r\"C:\\Users\\trrak\\OneDrive\\Рабочий стол\\InvBloodSolver\\df\\df_exp1\\X_exp_array.npy\")\n",
    "X_th_array = np.load(r\"C:\\Users\\trrak\\OneDrive\\Рабочий стол\\InvBloodSolver\\df\\df_exp1\\X_th_array.npy\")\n",
    "y_th_array = np.load(r\"C:\\Users\\trrak\\OneDrive\\Рабочий стол\\InvBloodSolver\\df\\df_exp1\\y_th_array.npy\")"
   ]
  },
  {
   "cell_type": "markdown",
   "metadata": {},
   "source": [
    "### Нахождение RMSE (минимального расстояния)"
   ]
  },
  {
   "cell_type": "markdown",
   "metadata": {},
   "source": [
    "Расчет теоретических данных"
   ]
  },
  {
   "cell_type": "code",
   "execution_count": 35,
   "metadata": {},
   "outputs": [
    {
     "name": "stderr",
     "output_type": "stream",
     "text": [
      "100%|██████████| 39229/39229 [35:41<00:00, 18.31it/s]\n"
     ]
    }
   ],
   "source": [
    "# Создание пустого массива нужной длины для сохранения результатов\n",
    "rmse_results = np.zeros(X_test_array.shape[0])\n",
    "index_results = np.zeros(X_test_array.shape[0])\n",
    "\n",
    "# Проход по каждой строке в X_test_array\n",
    "for i in tqdm(range(X_test_array.shape[0])):\n",
    "    # Считывание всех RMSE для одной строки X_test_array по X_train_array \n",
    "    # Нахождение минимального RMSE и соответствующего индекса для каждой строки X_test_array \n",
    "    rmse = np.sqrt(np.mean(np.square(X_train_array - X_test_array[i, :]), axis=1))\n",
    "    min_rmse = np.min(rmse)\n",
    "    min_index = np.argmin(rmse)\n",
    "    # Создание два массива под RMSE и индекс\n",
    "    rmse_results[i] = min_rmse\n",
    "    index_results[i] = min_index"
   ]
  },
  {
   "cell_type": "code",
   "execution_count": 38,
   "metadata": {},
   "outputs": [],
   "source": [
    "np.savetxt(r'C:\\Users\\trrak\\OneDrive\\Рабочий стол\\InvBloodSolver\\bd_search_files\\index_th.txt', index_results)"
   ]
  },
  {
   "cell_type": "code",
   "execution_count": 39,
   "metadata": {},
   "outputs": [
    {
     "data": {
      "text/plain": [
       "array([ 84362.,  38684.,  53880., ..., 125388., 129208., 132379.])"
      ]
     },
     "execution_count": 39,
     "metadata": {},
     "output_type": "execute_result"
    }
   ],
   "source": [
    "index_results"
   ]
  },
  {
   "cell_type": "markdown",
   "metadata": {},
   "source": [
    "Расчет экспериментальных данных"
   ]
  },
  {
   "cell_type": "code",
   "execution_count": 40,
   "metadata": {},
   "outputs": [
    {
     "name": "stderr",
     "output_type": "stream",
     "text": [
      "100%|██████████| 17441/17441 [23:24<00:00, 12.42it/s]\n"
     ]
    }
   ],
   "source": [
    "# Создание пустого массива нужной длины для сохранения результатов\n",
    "rmse_results = np.zeros(X_exp_array.shape[0])\n",
    "index_results = np.zeros(X_exp_array.shape[0])\n",
    "\n",
    "# Проход по каждой строке в X_test_array\n",
    "for i in tqdm(range(X_exp_array.shape[0])):\n",
    "    # Считывание всех RMSE для одной строки X_test_array по X_train_array \n",
    "    # Нахождение минимального RMSE и соответствующего индекса для каждой строки X_test_array \n",
    "    rmse = np.sqrt(np.mean(np.square(X_th_array - X_exp_array[i, :]), axis=1))\n",
    "    min_rmse = np.min(rmse)\n",
    "    min_index = np.argmin(rmse)\n",
    "    # Создание два массива под RMSE и индекс\n",
    "    rmse_results[i] = min_rmse\n",
    "    index_results[i] = min_index"
   ]
  },
  {
   "cell_type": "code",
   "execution_count": 41,
   "metadata": {},
   "outputs": [],
   "source": [
    "np.savetxt(r'C:\\Users\\trrak\\OneDrive\\Рабочий стол\\InvBloodSolver\\bd_search_files\\index_exp.txt', index_results)"
   ]
  },
  {
   "cell_type": "code",
   "execution_count": 44,
   "metadata": {},
   "outputs": [
    {
     "data": {
      "text/plain": [
       "array([ 18205., 120062.,  78662., ...,  97390., 190780., 123921.])"
      ]
     },
     "execution_count": 44,
     "metadata": {},
     "output_type": "execute_result"
    }
   ],
   "source": [
    "index_results"
   ]
  },
  {
   "cell_type": "markdown",
   "metadata": {},
   "source": [
    "Чтение файлов, чтобы повторно не прогонять RMSE"
   ]
  },
  {
   "cell_type": "code",
   "execution_count": 45,
   "metadata": {},
   "outputs": [],
   "source": [
    "index_th = np.loadtxt(r'C:\\Users\\trrak\\OneDrive\\Рабочий стол\\InvBloodSolver\\bd_search_files\\index_th.txt')\n",
    "index_exp = np.loadtxt(r'C:\\Users\\trrak\\OneDrive\\Рабочий стол\\InvBloodSolver\\bd_search_files\\index_exp.txt')"
   ]
  },
  {
   "cell_type": "code",
   "execution_count": 46,
   "metadata": {},
   "outputs": [
    {
     "name": "stdout",
     "output_type": "stream",
     "text": [
      "(39229,)\n",
      "(17441,)\n"
     ]
    }
   ],
   "source": [
    "print(index_th.shape)\n",
    "print(index_exp.shape)"
   ]
  },
  {
   "cell_type": "markdown",
   "metadata": {},
   "source": [
    "Посмотрим метрику для теоретических данных по выходным параметрам"
   ]
  },
  {
   "cell_type": "code",
   "execution_count": 47,
   "metadata": {},
   "outputs": [
    {
     "name": "stdout",
     "output_type": "stream",
     "text": [
      "MAE for r: 0.04411429983124591\n",
      "MAE for eps: 0.029147314678677202\n",
      "MAE for n: 0.003633561491753548\n",
      "MAE for beta: 2.023859899564098\n",
      "MSE for r: 0.004675887140188402\n",
      "MSE for eps: 0.001749899307930474\n",
      "MSE for n: 3.0546679281205864e-05\n",
      "MSE for beta: 15.201713018430244\n"
     ]
    }
   ],
   "source": [
    "# Создание пустого массива для сохранения предсказанных значений\n",
    "y_test_pred_array = np.zeros(y_test_array.shape)\n",
    "\n",
    "# Проход по каждому индексу в index_results\n",
    "for i, index in enumerate(index_th):\n",
    "    # Извлечение соответствующего элемента из y_train_scaled и сохраняем его в y_test_pred_scaled\n",
    "    y_test_pred_array[i] = y_train_array[int(index)]\n",
    "\n",
    "# Вычисление MAE для каждой колонки\n",
    "# multioutput='raw_values' возвращает массив значений MAE для каждой колонки входных данных\n",
    "mae = mean_absolute_error(y_test_array, y_test_pred_array, multioutput='raw_values')\n",
    "mse = mean_squared_error(y_test_array, y_test_pred_array, multioutput='raw_values')\n",
    "\n",
    "# Вывод MAE для каждой колонки\n",
    "for i, column in enumerate(['r', 'eps', 'n', 'beta']):\n",
    "    print(f\"MAE for {column}: {mae[i]}\")\n",
    "    \n",
    "# Вывод MSE для каждой колонки\n",
    "for i, column in enumerate(['r', 'eps', 'n', 'beta']):\n",
    "    print(f\"MSE for {column}: {mse[i]}\")"
   ]
  }
 ],
 "metadata": {
  "kernelspec": {
   "display_name": "Python 3",
   "language": "python",
   "name": "python3"
  },
  "language_info": {
   "codemirror_mode": {
    "name": "ipython",
    "version": 3
   },
   "file_extension": ".py",
   "mimetype": "text/x-python",
   "name": "python",
   "nbconvert_exporter": "python",
   "pygments_lexer": "ipython3",
   "version": "3.9.11"
  },
  "orig_nbformat": 4
 },
 "nbformat": 4,
 "nbformat_minor": 2
}
