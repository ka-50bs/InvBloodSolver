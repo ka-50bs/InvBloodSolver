{
 "cells": [
  {
   "cell_type": "markdown",
   "metadata": {},
   "source": [
    "### Подключение библиотек"
   ]
  },
  {
   "cell_type": "code",
   "execution_count": 1,
   "metadata": {},
   "outputs": [],
   "source": [
    "import pandas as pd\n",
    "import numpy as np\n",
    "import re\n",
    "from sklearn.preprocessing import MinMaxScaler\n",
    "from tqdm import tqdm\n",
    "from sklearn.model_selection import train_test_split\n",
    "from sklearn.metrics import mean_absolute_error, mean_squared_error\n",
    "from sklearn.neighbors import KDTree\n",
    "import random\n",
    "import matplotlib.pyplot as plt\n",
    "import time\n",
    "import pickle\n",
    "from IPython.display import Image"
   ]
  },
  {
   "cell_type": "markdown",
   "metadata": {},
   "source": [
    "### Считаем данные"
   ]
  },
  {
   "cell_type": "markdown",
   "metadata": {},
   "source": [
    "Теоретические данные"
   ]
  },
  {
   "cell_type": "code",
   "execution_count": 19,
   "metadata": {},
   "outputs": [],
   "source": [
    "X_test_array = np.load(r\"C:\\Users\\trrak\\OneDrive\\Рабочий стол\\InvBloodSolver\\df\\df_th\\X_test_array.npy\")\n",
    "X_train_array = np.load(r\"C:\\Users\\trrak\\OneDrive\\Рабочий стол\\InvBloodSolver\\df\\df_th\\X_train_array.npy\")\n",
    "y_test_array = np.load(r\"C:\\Users\\trrak\\OneDrive\\Рабочий стол\\InvBloodSolver\\df\\df_th\\y_test_array.npy\")\n",
    "y_train_array = np.load(r\"C:\\Users\\trrak\\OneDrive\\Рабочий стол\\InvBloodSolver\\df\\df_th\\y_train_array.npy\")"
   ]
  },
  {
   "cell_type": "markdown",
   "metadata": {},
   "source": [
    "Экспериментальные данные"
   ]
  },
  {
   "cell_type": "code",
   "execution_count": 20,
   "metadata": {},
   "outputs": [],
   "source": [
    "X_exp_array = np.load(r\"C:\\Users\\trrak\\OneDrive\\Рабочий стол\\InvBloodSolver\\df\\df_exp1\\X_exp_array.npy\")\n",
    "X_th_array = np.load(r\"C:\\Users\\trrak\\OneDrive\\Рабочий стол\\InvBloodSolver\\df\\df_exp1\\X_th_array.npy\")\n",
    "y_th_array = np.load(r\"C:\\Users\\trrak\\OneDrive\\Рабочий стол\\InvBloodSolver\\df\\df_exp1\\y_th_array.npy\")"
   ]
  },
  {
   "cell_type": "code",
   "execution_count": 27,
   "metadata": {},
   "outputs": [],
   "source": [
    "df_ex = pd.read_csv(r'c:\\Users\\trrak\\OneDrive\\Рабочий стол\\platelets\\project_FC\\experimental_1_degree.csv', sep=';')\n",
    "df_ex = df_ex.drop('70', axis=1)"
   ]
  },
  {
   "cell_type": "code",
   "execution_count": 28,
   "metadata": {},
   "outputs": [],
   "source": [
    "def weight_formula(θ):\n",
    "    return (1/θ)*np.exp(-2*(np.log(θ/54))**2)\n",
    "\n",
    "θ = np.array(df_ex.columns, dtype='double')\n",
    "weight = weight_formula(θ)"
   ]
  },
  {
   "cell_type": "code",
   "execution_count": 30,
   "metadata": {},
   "outputs": [],
   "source": [
    "X_train_weighted = X_train_array * weight \n",
    "X_test_weighted = X_test_array * weight "
   ]
  },
  {
   "cell_type": "code",
   "execution_count": 33,
   "metadata": {},
   "outputs": [],
   "source": [
    "X_th_weighted = X_th_array * weight\n",
    "X_exp_weighted = X_exp_array * weight "
   ]
  },
  {
   "cell_type": "markdown",
   "metadata": {},
   "source": [
    "### Нахождение RMSE (минимального расстояния)"
   ]
  },
  {
   "cell_type": "markdown",
   "metadata": {},
   "source": [
    "Расчет теоретических данных"
   ]
  },
  {
   "cell_type": "code",
   "execution_count": 31,
   "metadata": {},
   "outputs": [
    {
     "name": "stderr",
     "output_type": "stream",
     "text": [
      "100%|██████████| 3923/3923 [03:44<00:00, 17.50it/s]\n"
     ]
    }
   ],
   "source": [
    "# Создание пустого массива нужной длины для сохранения результатов\n",
    "rmse_results = np.zeros(X_test_weighted.shape[0])\n",
    "index_results = np.zeros(X_test_weighted.shape[0])\n",
    "\n",
    "# Проход по каждой строке в X_test_array\n",
    "for i in tqdm(range(X_test_weighted.shape[0])):\n",
    "    # Считывание всех RMSE для одной строки X_test_array по X_train_array \n",
    "    # Нахождение минимального RMSE и соответствующего индекса для каждой строки X_test_array \n",
    "    rmse = np.sqrt(np.mean(np.square(X_train_weighted - X_test_weighted[i, :]), axis=1))\n",
    "    min_rmse = np.min(rmse)\n",
    "    min_index = np.argmin(rmse)\n",
    "    # Создание два массива под RMSE и индекс\n",
    "    rmse_results[i] = min_rmse\n",
    "    index_results[i] = min_index"
   ]
  },
  {
   "cell_type": "code",
   "execution_count": 32,
   "metadata": {},
   "outputs": [],
   "source": [
    "np.savetxt(r'C:\\Users\\trrak\\OneDrive\\Рабочий стол\\InvBloodSolver\\bd_search_files\\index_th.txt', index_results, fmt='%i')"
   ]
  },
  {
   "cell_type": "code",
   "execution_count": 23,
   "metadata": {},
   "outputs": [
    {
     "data": {
      "text/plain": [
       "array([119668.,  73990.,  89186., ...,  45859., 101251.,  51609.])"
      ]
     },
     "execution_count": 23,
     "metadata": {},
     "output_type": "execute_result"
    }
   ],
   "source": [
    "index_results"
   ]
  },
  {
   "cell_type": "markdown",
   "metadata": {},
   "source": [
    "Расчет экспериментальных данных"
   ]
  },
  {
   "cell_type": "code",
   "execution_count": 34,
   "metadata": {},
   "outputs": [
    {
     "name": "stderr",
     "output_type": "stream",
     "text": [
      "100%|██████████| 17441/17441 [16:24<00:00, 17.72it/s]\n"
     ]
    }
   ],
   "source": [
    "# Создание пустого массива нужной длины для сохранения результатов\n",
    "rmse_results = np.zeros(X_exp_weighted.shape[0])\n",
    "index_results = np.zeros(X_exp_weighted.shape[0])\n",
    "\n",
    "# Проход по каждой строке в X_test_array\n",
    "for i in tqdm(range(X_exp_weighted.shape[0])):\n",
    "    # Считывание всех RMSE для одной строки X_test_array по X_train_array \n",
    "    # Нахождение минимального RMSE и соответствующего индекса для каждой строки X_test_array \n",
    "    rmse = np.sqrt(np.mean(np.square(X_th_weighted - X_exp_weighted[i, :]), axis=1))\n",
    "    min_rmse = np.min(rmse)\n",
    "    min_index = np.argmin(rmse)\n",
    "    # Создание два массива под RMSE и индекс\n",
    "    rmse_results[i] = min_rmse\n",
    "    index_results[i] = min_index"
   ]
  },
  {
   "cell_type": "code",
   "execution_count": 36,
   "metadata": {},
   "outputs": [],
   "source": [
    "np.savetxt(r'C:\\Users\\trrak\\OneDrive\\Рабочий стол\\InvBloodSolver\\bd_search_files\\index_exp.txt', index_results, fmt='%i')"
   ]
  },
  {
   "cell_type": "code",
   "execution_count": 26,
   "metadata": {},
   "outputs": [
    {
     "data": {
      "text/plain": [
       "array([107345.,  81323., 167891., ..., 167967., 146545.,  86304.])"
      ]
     },
     "execution_count": 26,
     "metadata": {},
     "output_type": "execute_result"
    }
   ],
   "source": [
    "index_results"
   ]
  },
  {
   "cell_type": "markdown",
   "metadata": {},
   "source": [
    "Чтение файлов, чтобы повторно не прогонять RMSE"
   ]
  },
  {
   "cell_type": "code",
   "execution_count": 15,
   "metadata": {},
   "outputs": [],
   "source": [
    "index_th = np.loadtxt(r'C:\\Users\\trrak\\OneDrive\\Рабочий стол\\InvBloodSolver\\bd_search_files\\index_th.txt')\n",
    "index_exp = np.loadtxt(r'C:\\Users\\trrak\\OneDrive\\Рабочий стол\\InvBloodSolver\\bd_search_files\\index_exp.txt')"
   ]
  },
  {
   "cell_type": "code",
   "execution_count": 16,
   "metadata": {},
   "outputs": [
    {
     "data": {
      "text/plain": [
       "array([119668.,  73990.,  89186., ...,  45859., 101251.,  51609.])"
      ]
     },
     "execution_count": 16,
     "metadata": {},
     "output_type": "execute_result"
    }
   ],
   "source": [
    "index_th"
   ]
  },
  {
   "cell_type": "code",
   "execution_count": 17,
   "metadata": {},
   "outputs": [
    {
     "name": "stdout",
     "output_type": "stream",
     "text": [
      "(3923,)\n",
      "(17441,)\n"
     ]
    }
   ],
   "source": [
    "print(index_th.shape)\n",
    "print(index_exp.shape)"
   ]
  },
  {
   "cell_type": "markdown",
   "metadata": {},
   "source": [
    "Посмотрим метрику для теоретических данных по выходным параметрам"
   ]
  },
  {
   "cell_type": "code",
   "execution_count": 37,
   "metadata": {},
   "outputs": [
    {
     "name": "stdout",
     "output_type": "stream",
     "text": [
      "MAE for r: 0.0432933951414731\n",
      "MAE for eps: 0.02790211579913303\n",
      "MAE for n: 0.003586565223043656\n",
      "MAE for beta: 1.9974509304104002\n",
      "MSE for r: 0.0044578123956171695\n",
      "MSE for eps: 0.0015650267402501498\n",
      "MSE for n: 2.970978735964952e-05\n",
      "MSE for beta: 14.733622227886821\n"
     ]
    }
   ],
   "source": [
    "# Создание пустого массива для сохранения предсказанных значений\n",
    "y_test_pred_array = np.zeros(y_test_array.shape)\n",
    "\n",
    "# Проход по каждому индексу в index_results\n",
    "for i, index in enumerate(index_th):\n",
    "    # Извлечение соответствующего элемента из y_train_scaled и сохраняем его в y_test_pred_scaled\n",
    "    y_test_pred_array[i] = y_train_array[int(index)]\n",
    "\n",
    "# Вычисление MAE для каждой колонки\n",
    "# multioutput='raw_values' возвращает массив значений MAE для каждой колонки входных данных\n",
    "mae = mean_absolute_error(y_test_array, y_test_pred_array, multioutput='raw_values')\n",
    "mse = mean_squared_error(y_test_array, y_test_pred_array, multioutput='raw_values')\n",
    "\n",
    "# Вывод MAE для каждой колонки\n",
    "for i, column in enumerate(['r', 'eps', 'n', 'beta']):\n",
    "    print(f\"MAE for {column}: {mae[i]}\")\n",
    "    \n",
    "# Вывод MSE для каждой колонки\n",
    "for i, column in enumerate(['r', 'eps', 'n', 'beta']):\n",
    "    print(f\"MSE for {column}: {mse[i]}\")"
   ]
  }
 ],
 "metadata": {
  "kernelspec": {
   "display_name": "Python 3",
   "language": "python",
   "name": "python3"
  },
  "language_info": {
   "codemirror_mode": {
    "name": "ipython",
    "version": 3
   },
   "file_extension": ".py",
   "mimetype": "text/x-python",
   "name": "python",
   "nbconvert_exporter": "python",
   "pygments_lexer": "ipython3",
   "version": "3.9.11"
  },
  "orig_nbformat": 4
 },
 "nbformat": 4,
 "nbformat_minor": 2
}
